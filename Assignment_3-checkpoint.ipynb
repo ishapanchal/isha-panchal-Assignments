{
 "cells": [
  {
   "cell_type": "code",
   "execution_count": 5,
   "metadata": {},
   "outputs": [
    {
     "name": "stdout",
     "output_type": "stream",
     "text": [
      "('P(B|A)', Fraction(3, 100))\n"
     ]
    }
   ],
   "source": [
    "#Question 1\n",
    "from __future__ import division\n",
    "from fractions import Fraction\n",
    "def event_probality(AB,B,A):\n",
    "    BA=\"%.2f\"%((AB*B)/A)\n",
    "    print(\"P(B|A)\",Fraction(BA))\n",
    "    \n",
    "event_probality(2/36,6/36,11/36)"
   ]
  },
  {
   "cell_type": "code",
   "execution_count": 8,
   "metadata": {},
   "outputs": [
    {
     "name": "stdout",
     "output_type": "stream",
     "text": [
      "0.30\n",
      "0.21\n",
      "0.588235294118\n"
     ]
    }
   ],
   "source": [
    "#Question 2\n",
    "\n",
    "# Bag I contains 6 Black balls and 4 White balls\n",
    "BagI_BlackBalls=6\n",
    "BagI_WhiteBalls=4\n",
    "BagI_TotalBalls=10\n",
    "#Bag II contains 4 White balls and 3 Black balls\n",
    "BagII_BlackBalls=3\n",
    "BagII_WhiteBalls=4\n",
    "BagII_TotalBalls=7\n",
    "\n",
    "#sample space\n",
    "Total_Bag=2\n",
    "\n",
    "#One ball drawn random and it is found black\n",
    "BagI_Probability= \"%.2f\"%((BagI_BlackBalls / BagI_TotalBalls)*(1/Total_Bag))\n",
    "\n",
    "print(BagI_Probability)\n",
    "\n",
    "BagII_Probability=\"%.2f\"%((BagII_BlackBalls / BagII_TotalBalls)*(1/Total_Bag))\n",
    "\n",
    "print(BagII_Probability)\n",
    "\n",
    "#Event is given that the ball drawn from Bag 1\n",
    "Event_Probability= float(BagI_Probability)/(float (BagI_Probability)+float (BagII_Probability))\n",
    "\n",
    "print(Event_Probability)"
   ]
  },
  {
   "cell_type": "code",
   "execution_count": 12,
   "metadata": {},
   "outputs": [
    {
     "name": "stdout",
     "output_type": "stream",
     "text": [
      "('Probability of Truth= ', '0.286')\n"
     ]
    }
   ],
   "source": [
    "#Question 3.\n",
    "Truth_Probability_4=(2/3)*(1/6)\n",
    "Lie_Probability_4=(1/3)*(5/6)\n",
    "\n",
    "Probability=\"%.3f\"%(Truth_Probability_4/(Truth_Probability_4+Lie_Probability_4))\n",
    "print(\"Probability of Truth= \",(Probability))"
   ]
  },
  {
   "cell_type": "code",
   "execution_count": null,
   "metadata": {},
   "outputs": [],
   "source": []
  }
 ],
 "metadata": {
  "kernelspec": {
   "display_name": "Python 2",
   "language": "python",
   "name": "python2"
  },
  "language_info": {
   "codemirror_mode": {
    "name": "ipython",
    "version": 2
   },
   "file_extension": ".py",
   "mimetype": "text/x-python",
   "name": "python",
   "nbconvert_exporter": "python",
   "pygments_lexer": "ipython2",
   "version": "2.7.14"
  }
 },
 "nbformat": 4,
 "nbformat_minor": 2
}
