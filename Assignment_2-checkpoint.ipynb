{
 "cells": [
  {
   "cell_type": "code",
   "execution_count": 1,
   "metadata": {},
   "outputs": [
    {
     "name": "stdout",
     "output_type": "stream",
     "text": [
      "[[0.7041623 ]\n",
      " [0.72658618]\n",
      " [0.94789303]\n",
      " [0.37931293]\n",
      " [0.75211736]\n",
      " [0.39323491]\n",
      " [0.84845842]\n",
      " [0.65077454]\n",
      " [0.98642098]\n",
      " [0.92010735]]\n"
     ]
    }
   ],
   "source": [
    "# Question 1\n",
    "import numpy as np\n",
    "a = np.random.random((10, 1))\n",
    "print(a)"
   ]
  },
  {
   "cell_type": "code",
   "execution_count": 2,
   "metadata": {},
   "outputs": [
    {
     "data": {
      "text/plain": [
       "0.7309068012072306"
      ]
     },
     "execution_count": 2,
     "metadata": {},
     "output_type": "execute_result"
    }
   ],
   "source": [
    "#Mean of Elements\n",
    "np.mean(a)"
   ]
  },
  {
   "cell_type": "code",
   "execution_count": 5,
   "metadata": {},
   "outputs": [
    {
     "data": {
      "text/plain": [
       "array([0.7309068])"
      ]
     },
     "execution_count": 5,
     "metadata": {},
     "output_type": "execute_result"
    }
   ],
   "source": [
    "np.mean(a, axis = 0)"
   ]
  },
  {
   "cell_type": "code",
   "execution_count": 6,
   "metadata": {},
   "outputs": [
    {
     "data": {
      "text/plain": [
       "array([0.7041623 , 0.72658618, 0.94789303, 0.37931293, 0.75211736,\n",
       "       0.39323491, 0.84845842, 0.65077454, 0.98642098, 0.92010735])"
      ]
     },
     "execution_count": 6,
     "metadata": {},
     "output_type": "execute_result"
    }
   ],
   "source": [
    "np.mean(a, axis = 1)"
   ]
  },
  {
   "cell_type": "code",
   "execution_count": 26,
   "metadata": {},
   "outputs": [
    {
     "name": "stdout",
     "output_type": "stream",
     "text": [
      "[[0.30775973]\n",
      " [0.40788526]\n",
      " [0.93147298]\n",
      " [0.18304192]\n",
      " [0.49396063]\n",
      " [0.73073657]\n",
      " [0.25102166]\n",
      " [0.31950841]\n",
      " [0.36969518]\n",
      " [0.30347438]\n",
      " [0.03609818]\n",
      " [0.1855384 ]\n",
      " [0.68340945]\n",
      " [0.22331194]\n",
      " [0.0142171 ]\n",
      " [0.28834878]\n",
      " [0.78186838]\n",
      " [0.5352727 ]\n",
      " [0.31573216]\n",
      " [0.96330769]]\n"
     ]
    }
   ],
   "source": [
    "# Question 2\n",
    "b = np.random.random((20, 1))\n",
    "print(b)"
   ]
  },
  {
   "cell_type": "code",
   "execution_count": 17,
   "metadata": {},
   "outputs": [
    {
     "data": {
      "text/plain": [
       "0.085172211234301"
      ]
     },
     "execution_count": 17,
     "metadata": {},
     "output_type": "execute_result"
    }
   ],
   "source": [
    "#Variance\n",
    "np.var(b)"
   ]
  },
  {
   "cell_type": "code",
   "execution_count": 18,
   "metadata": {},
   "outputs": [
    {
     "data": {
      "text/plain": [
       "array([0.08517221])"
      ]
     },
     "execution_count": 18,
     "metadata": {},
     "output_type": "execute_result"
    }
   ],
   "source": [
    "np.var(b,0)"
   ]
  },
  {
   "cell_type": "code",
   "execution_count": 19,
   "metadata": {},
   "outputs": [
    {
     "data": {
      "text/plain": [
       "array([0., 0., 0., 0., 0., 0., 0., 0., 0., 0., 0., 0., 0., 0., 0., 0., 0.,\n",
       "       0., 0., 0.])"
      ]
     },
     "execution_count": 19,
     "metadata": {},
     "output_type": "execute_result"
    }
   ],
   "source": [
    "np.var(b,1)"
   ]
  },
  {
   "cell_type": "code",
   "execution_count": 21,
   "metadata": {},
   "outputs": [
    {
     "data": {
      "text/plain": [
       "0"
      ]
     },
     "execution_count": 21,
     "metadata": {},
     "output_type": "execute_result"
    }
   ],
   "source": [
    "np.var(b, dtype=np.int32)"
   ]
  },
  {
   "cell_type": "code",
   "execution_count": 22,
   "metadata": {},
   "outputs": [
    {
     "data": {
      "text/plain": [
       "0.29184278513319634"
      ]
     },
     "execution_count": 22,
     "metadata": {},
     "output_type": "execute_result"
    }
   ],
   "source": [
    "#Standard Deviation\n",
    "np.std(b)"
   ]
  },
  {
   "cell_type": "code",
   "execution_count": 23,
   "metadata": {},
   "outputs": [
    {
     "data": {
      "text/plain": [
       "array([0.29184279])"
      ]
     },
     "execution_count": 23,
     "metadata": {},
     "output_type": "execute_result"
    }
   ],
   "source": [
    "np.std(b, axis = 0)"
   ]
  },
  {
   "cell_type": "code",
   "execution_count": 24,
   "metadata": {},
   "outputs": [
    {
     "data": {
      "text/plain": [
       "array([0., 0., 0., 0., 0., 0., 0., 0., 0., 0., 0., 0., 0., 0., 0., 0., 0.,\n",
       "       0., 0., 0.])"
      ]
     },
     "execution_count": 24,
     "metadata": {},
     "output_type": "execute_result"
    }
   ],
   "source": [
    "np.std(b, axis = 1)"
   ]
  },
  {
   "cell_type": "code",
   "execution_count": 56,
   "metadata": {},
   "outputs": [
    {
     "name": "stdout",
     "output_type": "stream",
     "text": [
      "[[3.24920867 3.49101337 3.86451852 4.12406928 3.76641318 4.29921728\n",
      "  3.65305358 3.90439696 3.57756604 4.36953622 3.45592882 2.96970382\n",
      "  3.26290722 3.65518888 5.30172212 3.72490012 3.88370402 3.75495102\n",
      "  3.13041604 4.45428052 4.18909044 3.42598422 4.69016488 3.35506253\n",
      "  3.70258766]\n",
      " [5.00460981 4.49714424 5.3809334  5.01015509 4.68611002 5.49237409\n",
      "  4.30998678 5.28544193 4.6817416  4.47562982 4.56140765 4.3514717\n",
      "  5.23791286 4.35724506 6.31844376 4.83307221 5.19408535 5.17398442\n",
      "  4.28424172 6.32441311 5.18230445 4.84515744 4.90825522 4.17249318\n",
      "  4.65702295]\n",
      " [4.69934413 4.69112379 5.23858097 5.75021872 5.59165045 4.93768505\n",
      "  4.42352006 5.63206206 5.17202581 5.60366382 4.58591652 4.16668728\n",
      "  5.08727511 4.55298606 6.49173245 5.18168892 4.69214319 5.32483854\n",
      "  4.7197667  5.64499053 5.49190686 4.61889972 4.33966704 4.27818825\n",
      "  4.19871618]\n",
      " [4.36959701 5.87599193 5.43004945 5.64727337 5.15938483 4.80385411\n",
      "  4.912649   5.41765769 5.06238087 5.08891482 5.14070193 4.25490878\n",
      "  4.9166219  4.74901796 5.30191957 4.28021264 4.70080421 4.90149583\n",
      "  4.68040013 5.51098332 5.87088195 5.18850969 4.7637548  4.01456121\n",
      "  3.49064262]\n",
      " [3.93764363 4.94079078 5.17319231 6.17316276 5.27958904 5.07821987\n",
      "  4.56541307 5.85425862 5.74180363 5.30002847 4.63890312 3.86251264\n",
      "  5.24324597 4.56951693 6.30470979 4.32853123 4.90253606 5.0233066\n",
      "  4.55811784 5.1450674  5.10130313 5.25546084 4.5424723  4.20449318\n",
      "  4.00428077]\n",
      " [4.51254832 4.70500258 4.86530087 5.09908915 5.16677502 4.97991523\n",
      "  4.07214874 5.55013042 5.51128532 5.43127179 4.60622031 3.76892673\n",
      "  5.01839765 4.21926933 5.85168678 5.1822717  4.33145032 5.15919281\n",
      "  5.24604883 5.15730686 5.16028347 4.52529313 4.86664391 4.63965884\n",
      "  4.20886797]\n",
      " [4.1137407  3.82779252 4.22758407 5.25546406 4.45285907 5.45624255\n",
      "  3.79333858 5.14682962 5.02427718 5.25110176 3.84116807 4.423094\n",
      "  4.73333627 4.26201511 6.16868386 5.32572334 5.33767834 4.34018446\n",
      "  4.71263699 5.29922687 4.70344623 3.81878422 4.95068532 4.39672374\n",
      "  4.73086327]\n",
      " [4.39647044 3.58392442 4.1772321  5.43193175 4.47778011 5.42084342\n",
      "  4.18135827 4.25482894 4.37699801 5.50882048 4.74657099 4.02141734\n",
      "  4.22300623 4.40605112 6.47084562 5.30575692 4.59610153 4.76000406\n",
      "  4.18313426 5.83458761 4.24689979 4.22035867 4.58484626 4.2868946\n",
      "  4.79478774]\n",
      " [3.09491354 2.43157588 3.24084523 3.34536093 3.26052639 3.3107855\n",
      "  3.14985976 3.23100944 2.78565277 4.00199491 3.54783961 3.24633933\n",
      "  2.92870788 3.36952961 4.56026738 3.34956445 3.18460116 3.53652275\n",
      "  2.61246084 4.29934453 3.4880396  3.32402285 3.49014474 2.70358299\n",
      "  3.20965769]\n",
      " [3.85983991 3.6272431  4.29892826 3.90799471 4.64430423 3.81598898\n",
      "  3.72700176 4.96596705 3.41713055 3.47897963 3.8908773  3.46502786\n",
      "  3.71056633 3.86545357 5.06900092 4.42874432 3.79344364 5.11650747\n",
      "  3.98451486 5.1658902  4.32727492 4.75605351 4.83116557 3.79102515\n",
      "  3.92772917]]\n"
     ]
    }
   ],
   "source": [
    "# Question 3\n",
    "A = np.random.random((10,20))\n",
    "B = np.random.random((20,25))\n",
    "c = np.matmul(A,B)\n",
    "print(c)"
   ]
  },
  {
   "cell_type": "code",
   "execution_count": 57,
   "metadata": {},
   "outputs": [
    {
     "name": "stdout",
     "output_type": "stream",
     "text": [
      "(10L, 25L)\n"
     ]
    }
   ],
   "source": [
    "print(c.shape)"
   ]
  },
  {
   "cell_type": "code",
   "execution_count": 43,
   "metadata": {},
   "outputs": [
    {
     "data": {
      "text/plain": [
       "1115.3868914256614"
      ]
     },
     "execution_count": 43,
     "metadata": {},
     "output_type": "execute_result"
    }
   ],
   "source": [
    "c.sum()"
   ]
  },
  {
   "cell_type": "code",
   "execution_count": 44,
   "metadata": {},
   "outputs": [
    {
     "data": {
      "text/plain": [
       "array([110.75172925, 139.99947818,  90.05673372, 105.02017704,\n",
       "       101.49135053, 125.31293996, 114.57244655, 101.84449475,\n",
       "       124.67383567, 101.66370576])"
      ]
     },
     "execution_count": 44,
     "metadata": {},
     "output_type": "execute_result"
    }
   ],
   "source": [
    "#Sum of matrix elements\n",
    "c.sum(axis=1)"
   ]
  },
  {
   "cell_type": "code",
   "execution_count": 55,
   "metadata": {},
   "outputs": [
    {
     "name": "stdout",
     "output_type": "stream",
     "text": [
      "('Array is : ', array([[1.],\n",
      "       [1.],\n",
      "       [1.],\n",
      "       [1.],\n",
      "       [1.],\n",
      "       [1.],\n",
      "       [1.],\n",
      "       [1.],\n",
      "       [1.],\n",
      "       [1.]]))\n",
      "('New Array :', array([[0.73105858],\n",
      "       [0.73105858],\n",
      "       [0.73105858],\n",
      "       [0.73105858],\n",
      "       [0.73105858],\n",
      "       [0.73105858],\n",
      "       [0.73105858],\n",
      "       [0.73105858],\n",
      "       [0.73105858],\n",
      "       [0.73105858]]))\n"
     ]
    }
   ],
   "source": [
    "# Qustion 4 \n",
    "#Creating Array A of shape(10,1)\n",
    "A = np.ones((10,1))\n",
    "print('Array is : ',A)\n",
    "x = -1\n",
    "n = 1/(1+np.exp(A*x))\n",
    "print(\"New Array :\", n)"
   ]
  },
  {
   "cell_type": "code",
   "execution_count": null,
   "metadata": {},
   "outputs": [],
   "source": []
  }
 ],
 "metadata": {
  "kernelspec": {
   "display_name": "Python 2",
   "language": "python",
   "name": "python2"
  },
  "language_info": {
   "codemirror_mode": {
    "name": "ipython",
    "version": 2
   },
   "file_extension": ".py",
   "mimetype": "text/x-python",
   "name": "python",
   "nbconvert_exporter": "python",
   "pygments_lexer": "ipython2",
   "version": "2.7.14"
  }
 },
 "nbformat": 4,
 "nbformat_minor": 2
}
